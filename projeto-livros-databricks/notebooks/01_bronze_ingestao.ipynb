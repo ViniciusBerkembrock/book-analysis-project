{
  "cells": [
    {
      "cell_type": "code",
      "execution_count": null,
      "metadata": {},
      "outputs": [],
      "source": [
        "# ===========================================\n",
        "# 🟫 BRONZE - INGESTÃO DOS DADOS ORIGINAIS\n",
        "# ===========================================\n",
        "\n",
        "# Criação dos schemas bronze, silver e gold (caso não existam)\n",
        "# Separar o bloco SQL abaixo em um bloco notebook separado\n",
        "%sql\n",
        "CREATE SCHEMA IF NOT EXISTS book_bronze;\n",
        "CREATE SCHEMA IF NOT EXISTS book_silver;\n",
        "CREATE SCHEMA IF NOT EXISTS book_gold;\n",
        "\n",
        "#Separar o bloco python abaixo em um bloco notebook separado\n",
        "# -------------------------\n",
        "# 📘 Books\n",
        "# -------------------------\n",
        "book_path = \"/FileStore/tables/Books.csv\"\n",
        "df_books = spark.read.format(\"csv\") \\\n",
        "    .option(\"header\", \"true\") \\\n",
        "    .option(\"inferSchema\", \"true\") \\\n",
        "    .load(book_path)\n",
        "df_books.write.mode(\"overwrite\").saveAsTable(\"book_bronze.books\")\n",
        "\n",
        "# -------------------------\n",
        "# ⭐ Ratings\n",
        "# -------------------------\n",
        "ratings_path = \"/FileStore/tables/Ratings.csv\"\n",
        "df_ratings = spark.read.format(\"csv\") \\\n",
        "    .option(\"header\", \"true\") \\\n",
        "    .option(\"inferSchema\", \"true\") \\\n",
        "    .load(ratings_path)\n",
        "df_ratings.write.mode(\"overwrite\").saveAsTable(\"book_bronze.ratings\")\n",
        "\n",
        "# -------------------------\n",
        "# 👤 Users\n",
        "# -------------------------\n",
        "users_path = \"/FileStore/tables/Users.csv\"\n",
        "df_users = spark.read.format(\"csv\") \\\n",
        "    .option(\"header\", \"true\") \\\n",
        "    .option(\"inferSchema\", \"true\") \\\n",
        "    .load(users_path)\n",
        "df_users.write.mode(\"overwrite\").saveAsTable(\"book_bronze.users\")"
      ]
    }
  ],
  "metadata": {
    "language_info": {
      "name": "python"
    }
  },
  "nbformat": 4,
  "nbformat_minor": 2
}
